{
 "cells": [
  {
   "cell_type": "markdown",
   "metadata": {},
   "source": [
    "## How many male and female per zipcode ?"
   ]
  },
  {
   "cell_type": "code",
   "execution_count": 29,
   "metadata": {},
   "outputs": [],
   "source": [
    "import pandas as pd\n",
    "import matplotlib.pyplot as plt\n",
    "import numpy as np\n",
    "import seaborn as sns\n",
    "\n",
    "import warnings\n",
    "warnings.filterwarnings('ignore') \n",
    "\n",
    "%matplotlib inline"
   ]
  },
  {
   "cell_type": "code",
   "execution_count": 30,
   "metadata": {},
   "outputs": [],
   "source": [
    "df = pd.read_csv('../data/Nyc_Gender_data_by_zipcodes_female.csv', skiprows=1)"
   ]
  },
  {
   "cell_type": "code",
   "execution_count": 31,
   "metadata": {},
   "outputs": [
    {
     "data": {
      "text/html": [
       "<div>\n",
       "<style scoped>\n",
       "    .dataframe tbody tr th:only-of-type {\n",
       "        vertical-align: middle;\n",
       "    }\n",
       "\n",
       "    .dataframe tbody tr th {\n",
       "        vertical-align: top;\n",
       "    }\n",
       "\n",
       "    .dataframe thead th {\n",
       "        text-align: right;\n",
       "    }\n",
       "</style>\n",
       "<table border=\"1\" class=\"dataframe\">\n",
       "  <thead>\n",
       "    <tr style=\"text-align: right;\">\n",
       "      <th></th>\n",
       "      <th>Geography</th>\n",
       "      <th>Total; Estimate; Total population</th>\n",
       "      <th>Male; Estimate; Total population</th>\n",
       "      <th>Female; Estimate; Total population</th>\n",
       "    </tr>\n",
       "  </thead>\n",
       "  <tbody>\n",
       "    <tr>\n",
       "      <th>0</th>\n",
       "      <td>ZCTA5 00601</td>\n",
       "      <td>17599</td>\n",
       "      <td>8809</td>\n",
       "      <td>8790</td>\n",
       "    </tr>\n",
       "    <tr>\n",
       "      <th>1</th>\n",
       "      <td>ZCTA5 00602</td>\n",
       "      <td>39209</td>\n",
       "      <td>19231</td>\n",
       "      <td>19978</td>\n",
       "    </tr>\n",
       "    <tr>\n",
       "      <th>2</th>\n",
       "      <td>ZCTA5 00603</td>\n",
       "      <td>50135</td>\n",
       "      <td>24497</td>\n",
       "      <td>25638</td>\n",
       "    </tr>\n",
       "    <tr>\n",
       "      <th>3</th>\n",
       "      <td>ZCTA5 00606</td>\n",
       "      <td>6304</td>\n",
       "      <td>3148</td>\n",
       "      <td>3156</td>\n",
       "    </tr>\n",
       "    <tr>\n",
       "      <th>4</th>\n",
       "      <td>ZCTA5 00610</td>\n",
       "      <td>27590</td>\n",
       "      <td>13332</td>\n",
       "      <td>14258</td>\n",
       "    </tr>\n",
       "  </tbody>\n",
       "</table>\n",
       "</div>"
      ],
      "text/plain": [
       "     Geography  Total; Estimate; Total population  \\\n",
       "0  ZCTA5 00601                              17599   \n",
       "1  ZCTA5 00602                              39209   \n",
       "2  ZCTA5 00603                              50135   \n",
       "3  ZCTA5 00606                               6304   \n",
       "4  ZCTA5 00610                              27590   \n",
       "\n",
       "   Male; Estimate; Total population  Female; Estimate; Total population  \n",
       "0                              8809                                8790  \n",
       "1                             19231                               19978  \n",
       "2                             24497                               25638  \n",
       "3                              3148                                3156  \n",
       "4                             13332                               14258  "
      ]
     },
     "execution_count": 31,
     "metadata": {},
     "output_type": "execute_result"
    }
   ],
   "source": [
    "df.head()"
   ]
  },
  {
   "cell_type": "code",
   "execution_count": 32,
   "metadata": {},
   "outputs": [
    {
     "data": {
      "text/plain": [
       "Index(['Geography', 'Total; Estimate; Total population',\n",
       "       'Male; Estimate; Total population',\n",
       "       'Female; Estimate; Total population'],\n",
       "      dtype='object')"
      ]
     },
     "execution_count": 32,
     "metadata": {},
     "output_type": "execute_result"
    }
   ],
   "source": [
    "df.columns"
   ]
  },
  {
   "cell_type": "code",
   "execution_count": 36,
   "metadata": {},
   "outputs": [],
   "source": [
    "df = df.rename(columns ={'Male; Estimate; Total population': 'male',\n",
    "                         'Female; Estimate; Total population': 'female',\n",
    "                         'Total; Estimate; Total population': 'totalGender'})"
   ]
  },
  {
   "cell_type": "code",
   "execution_count": 37,
   "metadata": {},
   "outputs": [],
   "source": [
    "df['zip'] = df.Geography.str[-6:]"
   ]
  },
  {
   "cell_type": "code",
   "execution_count": 38,
   "metadata": {},
   "outputs": [],
   "source": [
    "df['male'] = pd.to_numeric(df.male)\n",
    "df['female'] = pd.to_numeric(df.female)\n",
    "df['totalGender'] = pd.to_numeric(df.totalGender)"
   ]
  },
  {
   "cell_type": "code",
   "execution_count": 43,
   "metadata": {},
   "outputs": [
    {
     "data": {
      "text/html": [
       "<div>\n",
       "<style scoped>\n",
       "    .dataframe tbody tr th:only-of-type {\n",
       "        vertical-align: middle;\n",
       "    }\n",
       "\n",
       "    .dataframe tbody tr th {\n",
       "        vertical-align: top;\n",
       "    }\n",
       "\n",
       "    .dataframe thead th {\n",
       "        text-align: right;\n",
       "    }\n",
       "</style>\n",
       "<table border=\"1\" class=\"dataframe\">\n",
       "  <thead>\n",
       "    <tr style=\"text-align: right;\">\n",
       "      <th></th>\n",
       "      <th>Geography</th>\n",
       "      <th>totalGender</th>\n",
       "      <th>male</th>\n",
       "      <th>female</th>\n",
       "      <th>zip</th>\n",
       "    </tr>\n",
       "  </thead>\n",
       "  <tbody>\n",
       "    <tr>\n",
       "      <th>26837</th>\n",
       "      <td>ZCTA5 77449</td>\n",
       "      <td>119204</td>\n",
       "      <td>57170</td>\n",
       "      <td>62034</td>\n",
       "      <td>77449</td>\n",
       "    </tr>\n",
       "    <tr>\n",
       "      <th>2877</th>\n",
       "      <td>ZCTA5 11368</td>\n",
       "      <td>114647</td>\n",
       "      <td>60490</td>\n",
       "      <td>54157</td>\n",
       "      <td>11368</td>\n",
       "    </tr>\n",
       "    <tr>\n",
       "      <th>20721</th>\n",
       "      <td>ZCTA5 60629</td>\n",
       "      <td>114129</td>\n",
       "      <td>55932</td>\n",
       "      <td>58197</td>\n",
       "      <td>60629</td>\n",
       "    </tr>\n",
       "    <tr>\n",
       "      <th>27790</th>\n",
       "      <td>ZCTA5 79936</td>\n",
       "      <td>111918</td>\n",
       "      <td>55178</td>\n",
       "      <td>56740</td>\n",
       "      <td>79936</td>\n",
       "    </tr>\n",
       "    <tr>\n",
       "      <th>30019</th>\n",
       "      <td>ZCTA5 90011</td>\n",
       "      <td>108051</td>\n",
       "      <td>53897</td>\n",
       "      <td>54154</td>\n",
       "      <td>90011</td>\n",
       "    </tr>\n",
       "    <tr>\n",
       "      <th>2888</th>\n",
       "      <td>ZCTA5 11385</td>\n",
       "      <td>106598</td>\n",
       "      <td>52837</td>\n",
       "      <td>53761</td>\n",
       "      <td>11385</td>\n",
       "    </tr>\n",
       "    <tr>\n",
       "      <th>30142</th>\n",
       "      <td>ZCTA5 90650</td>\n",
       "      <td>106404</td>\n",
       "      <td>52830</td>\n",
       "      <td>53574</td>\n",
       "      <td>90650</td>\n",
       "    </tr>\n",
       "    <tr>\n",
       "      <th>26874</th>\n",
       "      <td>ZCTA5 77494</td>\n",
       "      <td>105854</td>\n",
       "      <td>52184</td>\n",
       "      <td>53670</td>\n",
       "      <td>77494</td>\n",
       "    </tr>\n",
       "    <tr>\n",
       "      <th>30225</th>\n",
       "      <td>ZCTA5 91331</td>\n",
       "      <td>105696</td>\n",
       "      <td>52882</td>\n",
       "      <td>52814</td>\n",
       "      <td>91331</td>\n",
       "    </tr>\n",
       "    <tr>\n",
       "      <th>26735</th>\n",
       "      <td>ZCTA5 77084</td>\n",
       "      <td>104582</td>\n",
       "      <td>52676</td>\n",
       "      <td>51906</td>\n",
       "      <td>77084</td>\n",
       "    </tr>\n",
       "  </tbody>\n",
       "</table>\n",
       "</div>"
      ],
      "text/plain": [
       "         Geography  totalGender   male  female     zip\n",
       "26837  ZCTA5 77449       119204  57170   62034   77449\n",
       "2877   ZCTA5 11368       114647  60490   54157   11368\n",
       "20721  ZCTA5 60629       114129  55932   58197   60629\n",
       "27790  ZCTA5 79936       111918  55178   56740   79936\n",
       "30019  ZCTA5 90011       108051  53897   54154   90011\n",
       "2888   ZCTA5 11385       106598  52837   53761   11385\n",
       "30142  ZCTA5 90650       106404  52830   53574   90650\n",
       "26874  ZCTA5 77494       105854  52184   53670   77494\n",
       "30225  ZCTA5 91331       105696  52882   52814   91331\n",
       "26735  ZCTA5 77084       104582  52676   51906   77084"
      ]
     },
     "execution_count": 43,
     "metadata": {},
     "output_type": "execute_result"
    }
   ],
   "source": [
    "#SUBSET:\n",
    "df_mostPopulated_top10 = df.sort_values(by='totalGender', ascending=False)[:10]\n",
    "df_mostPopulated_top10"
   ]
  },
  {
   "cell_type": "markdown",
   "metadata": {},
   "source": [
    "### Plotting Male & Female counts in NYC areas, where the top 10 busiest stations are located"
   ]
  },
  {
   "cell_type": "code",
   "execution_count": 52,
   "metadata": {},
   "outputs": [
    {
     "data": {
      "image/png": "[encoded data removed]",
      "text/plain": [
       "<Figure size 720x432 with 1 Axes>"
      ]
     },
     "metadata": {
      "needs_background": "light"
     },
     "output_type": "display_data"
    }
   ],
   "source": [
    "\n",
    "f, ax = plt.subplots(figsize=(10, 6))\n",
    "sns.set_color_codes(\"pastel\")\n",
    "sns.barplot(x='zip', y='female', data=df_mostPopulated_top10, label='female', color='pink')\n",
    "\n",
    "sns.set_color_codes(\"muted\")\n",
    "sns.barplot(x='zip', y='male', data=df_mostPopulated_top10, label='male', color='blue', alpha=0.5)\n",
    "\n",
    "ax.legend(ncol=2, loc=\"lower right\", frameon=True)\n",
    "sns.despine(left=True, bottom=True)\n"
   ]
  },
  {
   "cell_type": "markdown",
   "metadata": {},
   "source": [
    "**Observation:**\n",
    "- There is a comparable number of male and female in select zipcodes, where top 10 busiest stations are located \n"
   ]
  },
  {
   "cell_type": "code",
   "execution_count": null,
   "metadata": {},
   "outputs": [],
   "source": []
  }
 ],
 "metadata": {
  "kernelspec": {
   "display_name": "Python 3",
   "language": "python",
   "name": "python3"
  },
  "language_info": {
   "codemirror_mode": {
    "name": "ipython",
    "version": 3
   },
   "file_extension": ".py",
   "mimetype": "text/x-python",
   "name": "python",
   "nbconvert_exporter": "python",
   "pygments_lexer": "ipython3",
   "version": "3.7.0"
  }
 },
 "nbformat": 4,
 "nbformat_minor": 2
}
