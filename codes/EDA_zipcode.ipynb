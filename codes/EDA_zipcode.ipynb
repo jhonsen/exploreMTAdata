{
 "cells": [
  {
   "cell_type": "markdown",
   "metadata": {},
   "source": [
    "# Supplemental Analysis for MTA Turnstile Data"
   ]
  },
  {
   "cell_type": "markdown",
   "metadata": {},
   "source": [
    "Goal:\n",
    "- Get geographic coordinates (geocodes) of subway locaions \n",
    "- data is obtained from census "
   ]
  },
  {
   "cell_type": "markdown",
   "metadata": {},
   "source": [
    "### Importing libraries"
   ]
  },
  {
   "cell_type": "code",
   "execution_count": 1,
   "metadata": {},
   "outputs": [],
   "source": [
    "import pandas as pd\n",
    "import pickle"
   ]
  },
  {
   "cell_type": "markdown",
   "metadata": {},
   "source": [
    "### Importing dataset #1  - ZIPCODES\n",
    "- **subwayszip.csv** is obtained using **MTAData.py**, which uses **Google API** to collect geocodes for NYC subway stations"
   ]
  },
  {
   "cell_type": "code",
   "execution_count": 2,
   "metadata": {},
   "outputs": [],
   "source": [
    "# Load dataset\n",
    "station_data = pd.read_csv(\"../data/subwayszip.csv\")"
   ]
  },
  {
   "cell_type": "markdown",
   "metadata": {},
   "source": [
    "#### Cleaning dataset\n"
   ]
  },
  {
   "cell_type": "code",
   "execution_count": 3,
   "metadata": {},
   "outputs": [
    {
     "data": {
      "text/html": [
       "<div>\n",
       "<style scoped>\n",
       "    .dataframe tbody tr th:only-of-type {\n",
       "        vertical-align: middle;\n",
       "    }\n",
       "\n",
       "    .dataframe tbody tr th {\n",
       "        vertical-align: top;\n",
       "    }\n",
       "\n",
       "    .dataframe thead th {\n",
       "        text-align: right;\n",
       "    }\n",
       "</style>\n",
       "<table border=\"1\" class=\"dataframe\">\n",
       "  <thead>\n",
       "    <tr style=\"text-align: right;\">\n",
       "      <th></th>\n",
       "      <th>name</th>\n",
       "      <th>zipcode</th>\n",
       "      <th>lat</th>\n",
       "      <th>long</th>\n",
       "    </tr>\n",
       "  </thead>\n",
       "  <tbody>\n",
       "    <tr>\n",
       "      <th>0</th>\n",
       "      <td>Astor Pl</td>\n",
       "      <td>10003</td>\n",
       "      <td>40.730054</td>\n",
       "      <td>-73.991070</td>\n",
       "    </tr>\n",
       "    <tr>\n",
       "      <th>1</th>\n",
       "      <td>Canal St</td>\n",
       "      <td>10013</td>\n",
       "      <td>40.718803</td>\n",
       "      <td>-74.000193</td>\n",
       "    </tr>\n",
       "    <tr>\n",
       "      <th>2</th>\n",
       "      <td>50 St Broadway</td>\n",
       "      <td>10019</td>\n",
       "      <td>40.761728</td>\n",
       "      <td>-73.983849</td>\n",
       "    </tr>\n",
       "  </tbody>\n",
       "</table>\n",
       "</div>"
      ],
      "text/plain": [
       "             name zipcode        lat       long\n",
       "0        Astor Pl   10003  40.730054 -73.991070\n",
       "1        Canal St   10013  40.718803 -74.000193\n",
       "2  50 St Broadway   10019  40.761728 -73.983849"
      ]
     },
     "execution_count": 3,
     "metadata": {},
     "output_type": "execute_result"
    }
   ],
   "source": [
    "# Extracting zipcodes\n",
    "station_data['zipcode']=station_data.zipcode.str[-6:]\n",
    "station_data.head(3)"
   ]
  },
  {
   "cell_type": "code",
   "execution_count": 4,
   "metadata": {},
   "outputs": [],
   "source": [
    "# Converting station names to upper case\n",
    "station_data['name'] = station_data.name.str.upper()"
   ]
  },
  {
   "cell_type": "code",
   "execution_count": 63,
   "metadata": {},
   "outputs": [],
   "source": [
    "# Checking unique station names\n",
    "# station_data.name.unique()"
   ]
  },
  {
   "cell_type": "markdown",
   "metadata": {},
   "source": [
    "### Importing dataset #2 - INCOME\n",
    "- **NYC Median Income by Zipcode.csv** is obtained from [Census data for 2017](https://factfinder.census.gov/faces/nav/jsf/pages/index.xhtml)"
   ]
  },
  {
   "cell_type": "code",
   "execution_count": 5,
   "metadata": {},
   "outputs": [],
   "source": [
    "# Importing income data\n",
    "income_data=pd.read_csv(\"../data/NYC Median Income by Zipcode.csv\")"
   ]
  },
  {
   "cell_type": "code",
   "execution_count": 6,
   "metadata": {},
   "outputs": [],
   "source": [
    "# Extracting zipcode\n",
    "income_data['zipcode']=income_data.Geography.str[-6:]"
   ]
  },
  {
   "cell_type": "markdown",
   "metadata": {},
   "source": [
    "### Merging the two datasets, income and zip codes"
   ]
  },
  {
   "cell_type": "code",
   "execution_count": 7,
   "metadata": {},
   "outputs": [],
   "source": [
    "station_income=pd.merge(station_data, income_data, \n",
    "                        how='left', left_on='zipcode', \n",
    "                        right_on='zipcode')"
   ]
  },
  {
   "cell_type": "markdown",
   "metadata": {},
   "source": [
    "### Sorting by zipcodes"
   ]
  },
  {
   "cell_type": "code",
   "execution_count": 8,
   "metadata": {},
   "outputs": [
    {
     "data": {
      "text/html": [
       "<div>\n",
       "<style scoped>\n",
       "    .dataframe tbody tr th:only-of-type {\n",
       "        vertical-align: middle;\n",
       "    }\n",
       "\n",
       "    .dataframe tbody tr th {\n",
       "        vertical-align: top;\n",
       "    }\n",
       "\n",
       "    .dataframe thead th {\n",
       "        text-align: right;\n",
       "    }\n",
       "</style>\n",
       "<table border=\"1\" class=\"dataframe\">\n",
       "  <thead>\n",
       "    <tr style=\"text-align: right;\">\n",
       "      <th></th>\n",
       "      <th>index</th>\n",
       "      <th>name</th>\n",
       "      <th>zipcode</th>\n",
       "      <th>lat</th>\n",
       "      <th>long</th>\n",
       "      <th>Geography</th>\n",
       "      <th>Median income (dollars); Estimate; Households</th>\n",
       "    </tr>\n",
       "  </thead>\n",
       "  <tbody>\n",
       "    <tr>\n",
       "      <th>0</th>\n",
       "      <td>197</td>\n",
       "      <td>WEST 8 STREET-NEW YORK AQUARIUM</td>\n",
       "      <td>11224</td>\n",
       "      <td>40.576034</td>\n",
       "      <td>-73.975958</td>\n",
       "      <td>ZCTA5 10012</td>\n",
       "      <td>104561</td>\n",
       "    </tr>\n",
       "    <tr>\n",
       "      <th>1</th>\n",
       "      <td>99</td>\n",
       "      <td>OCEAN PKWY</td>\n",
       "      <td>11235</td>\n",
       "      <td>40.576312</td>\n",
       "      <td>-73.968501</td>\n",
       "      <td>ZCTA5 10012</td>\n",
       "      <td>104561</td>\n",
       "    </tr>\n",
       "    <tr>\n",
       "      <th>2</th>\n",
       "      <td>468</td>\n",
       "      <td>CONEY ISLAND-STILLWELL AV STATION</td>\n",
       "      <td>11224</td>\n",
       "      <td>40.577281</td>\n",
       "      <td>-73.981236</td>\n",
       "      <td>ZCTA5 10012</td>\n",
       "      <td>104561</td>\n",
       "    </tr>\n",
       "    <tr>\n",
       "      <th>3</th>\n",
       "      <td>326</td>\n",
       "      <td>BRIGHTON BEACH</td>\n",
       "      <td>11235</td>\n",
       "      <td>40.577710</td>\n",
       "      <td>-73.961354</td>\n",
       "      <td>ZCTA5 10012</td>\n",
       "      <td>104561</td>\n",
       "    </tr>\n",
       "    <tr>\n",
       "      <th>4</th>\n",
       "      <td>332</td>\n",
       "      <td>NEPTUNE AV</td>\n",
       "      <td>11224</td>\n",
       "      <td>40.580739</td>\n",
       "      <td>-73.974593</td>\n",
       "      <td>ZCTA5 10012</td>\n",
       "      <td>104561</td>\n",
       "    </tr>\n",
       "  </tbody>\n",
       "</table>\n",
       "</div>"
      ],
      "text/plain": [
       "   index                               name zipcode        lat       long  \\\n",
       "0    197    WEST 8 STREET-NEW YORK AQUARIUM   11224  40.576034 -73.975958   \n",
       "1     99                         OCEAN PKWY   11235  40.576312 -73.968501   \n",
       "2    468  CONEY ISLAND-STILLWELL AV STATION   11224  40.577281 -73.981236   \n",
       "3    326                     BRIGHTON BEACH   11235  40.577710 -73.961354   \n",
       "4    332                         NEPTUNE AV   11224  40.580739 -73.974593   \n",
       "\n",
       "     Geography Median income (dollars); Estimate; Households  \n",
       "0  ZCTA5 10012                                        104561  \n",
       "1  ZCTA5 10012                                        104561  \n",
       "2  ZCTA5 10012                                        104561  \n",
       "3  ZCTA5 10012                                        104561  \n",
       "4  ZCTA5 10012                                        104561  "
      ]
     },
     "execution_count": 8,
     "metadata": {},
     "output_type": "execute_result"
    }
   ],
   "source": [
    "sort_by_zip = station_income.sort_values(by=['lat', 'long'], ascending=[True, True])\n",
    "sort_by_zip.reset_index(inplace=True)\n",
    "sort_by_zip.fillna(method='bfill', inplace=True)\n",
    "sort_by_zip.head(5)"
   ]
  },
  {
   "cell_type": "code",
   "execution_count": 9,
   "metadata": {},
   "outputs": [],
   "source": [
    "sort_by_zip['Median income (dollars); Estimate; Households'] = pd.to_numeric(sort_by_zip['Median income (dollars); Estimate; Households'], errors='coerce')"
   ]
  },
  {
   "cell_type": "code",
   "execution_count": 10,
   "metadata": {},
   "outputs": [],
   "source": [
    "# Collecting median income and zip codes\n",
    "top_stations = sort_by_zip.sort_values(by=['Median income (dollars); Estimate; Households'], \n",
    "                                       ascending=False)\n",
    "top_stations.to_csv('../data/top_stations.csv')"
   ]
  },
  {
   "cell_type": "markdown",
   "metadata": {},
   "source": [
    "### Importing Dataset #3 -  MTA data"
   ]
  },
  {
   "cell_type": "code",
   "execution_count": 11,
   "metadata": {},
   "outputs": [],
   "source": [
    "# Importing 'clean' dataframe from EDA_MTA.ipynb\n",
    "with open('cleanDf.pickle', 'rb') as readfile:\n",
    "    dfnew = pickle.load(readfile)"
   ]
  },
  {
   "cell_type": "code",
   "execution_count": 12,
   "metadata": {},
   "outputs": [],
   "source": [
    "# Creating a subset-df containing only top10 stations\n",
    "dfStation= dfnew.groupby('Station')[['traffic']].sum().sort_values(by = 'traffic', ascending=False)\n",
    "list_top10 = dfStation.index[:10].tolist()\n",
    "df_top10 = dfnew[dfnew.Station.isin(list_top10)]"
   ]
  },
  {
   "cell_type": "code",
   "execution_count": 13,
   "metadata": {},
   "outputs": [
    {
     "data": {
      "text/plain": [
       "['34 ST-PENN STA',\n",
       " 'GRD CNTRL-42 ST',\n",
       " '34 ST-HERALD SQ',\n",
       " '14 ST-UNION SQ',\n",
       " 'TIMES SQ-42 ST',\n",
       " '23 ST',\n",
       " 'FULTON ST',\n",
       " '42 ST-PORT AUTH',\n",
       " '86 ST',\n",
       " '125 ST']"
      ]
     },
     "execution_count": 13,
     "metadata": {},
     "output_type": "execute_result"
    }
   ],
   "source": [
    "# Checking the names of the top 10 station names in 'cleaned' MTA data\n",
    "list_top10"
   ]
  },
  {
   "cell_type": "code",
   "execution_count": 17,
   "metadata": {},
   "outputs": [],
   "source": [
    "# Checking unique Station names in df\n",
    "#sorted(sort_by_zip.name.unique().tolist())"
   ]
  },
  {
   "cell_type": "code",
   "execution_count": 18,
   "metadata": {},
   "outputs": [
    {
     "data": {
      "text/plain": [
       "10"
      ]
     },
     "execution_count": 18,
     "metadata": {},
     "output_type": "execute_result"
    }
   ],
   "source": [
    "# List of top10 station names in sortedzip df\n",
    "list_top10_sortedzip = ['34 ST - PENN STATION',\n",
    "                             'GRAND CENTRAL-42 STREET STATION',\n",
    "                             '34 ST - HERALD SQ SUBWAY STATION',\n",
    "                             '14 STREET - UNION SQ STATION',\n",
    "                             'TIMES SQ-42 ST',\n",
    "                             '23 STREET STATION',\n",
    "                             'FULTON ST',\n",
    "                             '42 ST - PORT AUTHORITY BUS TERMINAL',\n",
    "                             '86 STREET STATION',\n",
    "                             '125 ST']\n",
    "\n",
    "len(list_top10_sortedzip)"
   ]
  },
  {
   "cell_type": "code",
   "execution_count": 19,
   "metadata": {},
   "outputs": [
    {
     "name": "stdout",
     "output_type": "stream",
     "text": [
      "FULTON ST\n",
      "TIMES SQ-42 ST\n",
      "125 ST\n"
     ]
    }
   ],
   "source": [
    "# Check if the station names from sort_by_zip can be used to merge\n",
    "for each in sort_by_zip.name:\n",
    "    if each in list_top10:\n",
    "        print(each)\n",
    "        \n",
    "# (OUTPUT below) Looks like only 3 of themn have same name as the previous ones\n",
    "# So it needs to be cleaned before merging"
   ]
  },
  {
   "cell_type": "code",
   "execution_count": 20,
   "metadata": {},
   "outputs": [],
   "source": [
    "# Create a subset dataframe for top10\n",
    "df_subsetZip = sort_by_zip.loc[sort_by_zip.name.isin(list_top10_sortedzip),\n",
    "                               ['name','lat','long']]\n"
   ]
  },
  {
   "cell_type": "code",
   "execution_count": 22,
   "metadata": {},
   "outputs": [
    {
     "data": {
      "text/plain": [
       "\"some station names still don't match\""
      ]
     },
     "execution_count": 22,
     "metadata": {},
     "output_type": "execute_result"
    }
   ],
   "source": [
    "# Function to check if the name of stations are consistent, for merging\n",
    "def checkwork():\n",
    "    count=0\n",
    "    for each in df_subsetZip.name.values:\n",
    "        if each in list_top10:\n",
    "            count +=1\n",
    "    if count == 10:\n",
    "        return 'ready to use!'\n",
    "    else:\n",
    "        return \"some station names still don't match\"\n",
    "    \n",
    "\n",
    "checkwork()"
   ]
  },
  {
   "cell_type": "code",
   "execution_count": 23,
   "metadata": {},
   "outputs": [
    {
     "data": {
      "text/html": [
       "<div>\n",
       "<style scoped>\n",
       "    .dataframe tbody tr th:only-of-type {\n",
       "        vertical-align: middle;\n",
       "    }\n",
       "\n",
       "    .dataframe tbody tr th {\n",
       "        vertical-align: top;\n",
       "    }\n",
       "\n",
       "    .dataframe thead th {\n",
       "        text-align: right;\n",
       "    }\n",
       "</style>\n",
       "<table border=\"1\" class=\"dataframe\">\n",
       "  <thead>\n",
       "    <tr style=\"text-align: right;\">\n",
       "      <th></th>\n",
       "      <th>name</th>\n",
       "      <th>lat</th>\n",
       "      <th>long</th>\n",
       "    </tr>\n",
       "  </thead>\n",
       "  <tbody>\n",
       "    <tr>\n",
       "      <th>41</th>\n",
       "      <td>86 STREET STATION</td>\n",
       "      <td>40.622687</td>\n",
       "      <td>-74.028398</td>\n",
       "    </tr>\n",
       "    <tr>\n",
       "      <th>146</th>\n",
       "      <td>FULTON ST</td>\n",
       "      <td>40.687119</td>\n",
       "      <td>-73.975375</td>\n",
       "    </tr>\n",
       "    <tr>\n",
       "      <th>261</th>\n",
       "      <td>14 STREET - UNION SQ STATION</td>\n",
       "      <td>40.734673</td>\n",
       "      <td>-73.989951</td>\n",
       "    </tr>\n",
       "    <tr>\n",
       "      <th>262</th>\n",
       "      <td>14 STREET - UNION SQ STATION</td>\n",
       "      <td>40.734763</td>\n",
       "      <td>-73.990670</td>\n",
       "    </tr>\n",
       "    <tr>\n",
       "      <th>263</th>\n",
       "      <td>14 STREET - UNION SQ STATION</td>\n",
       "      <td>40.735872</td>\n",
       "      <td>-73.990539</td>\n",
       "    </tr>\n",
       "    <tr>\n",
       "      <th>269</th>\n",
       "      <td>23 STREET STATION</td>\n",
       "      <td>40.739864</td>\n",
       "      <td>-73.986599</td>\n",
       "    </tr>\n",
       "    <tr>\n",
       "      <th>272</th>\n",
       "      <td>23 STREET STATION</td>\n",
       "      <td>40.741303</td>\n",
       "      <td>-73.989344</td>\n",
       "    </tr>\n",
       "    <tr>\n",
       "      <th>276</th>\n",
       "      <td>23 STREET STATION</td>\n",
       "      <td>40.742954</td>\n",
       "      <td>-73.992765</td>\n",
       "    </tr>\n",
       "    <tr>\n",
       "      <th>280</th>\n",
       "      <td>23 STREET STATION</td>\n",
       "      <td>40.744081</td>\n",
       "      <td>-73.995657</td>\n",
       "    </tr>\n",
       "    <tr>\n",
       "      <th>286</th>\n",
       "      <td>23 STREET STATION</td>\n",
       "      <td>40.745906</td>\n",
       "      <td>-73.998041</td>\n",
       "    </tr>\n",
       "    <tr>\n",
       "      <th>299</th>\n",
       "      <td>34 ST - HERALD SQ SUBWAY STATION</td>\n",
       "      <td>40.749645</td>\n",
       "      <td>-73.987937</td>\n",
       "    </tr>\n",
       "    <tr>\n",
       "      <th>301</th>\n",
       "      <td>34 ST - HERALD SQ SUBWAY STATION</td>\n",
       "      <td>40.749789</td>\n",
       "      <td>-73.987772</td>\n",
       "    </tr>\n",
       "    <tr>\n",
       "      <th>305</th>\n",
       "      <td>GRAND CENTRAL-42 STREET STATION</td>\n",
       "      <td>40.751431</td>\n",
       "      <td>-73.976041</td>\n",
       "    </tr>\n",
       "    <tr>\n",
       "      <th>307</th>\n",
       "      <td>GRAND CENTRAL-42 STREET STATION</td>\n",
       "      <td>40.751807</td>\n",
       "      <td>-73.976713</td>\n",
       "    </tr>\n",
       "    <tr>\n",
       "      <th>309</th>\n",
       "      <td>34 ST - PENN STATION</td>\n",
       "      <td>40.752287</td>\n",
       "      <td>-73.993391</td>\n",
       "    </tr>\n",
       "    <tr>\n",
       "      <th>311</th>\n",
       "      <td>GRAND CENTRAL-42 STREET STATION</td>\n",
       "      <td>40.752769</td>\n",
       "      <td>-73.979189</td>\n",
       "    </tr>\n",
       "    <tr>\n",
       "      <th>316</th>\n",
       "      <td>TIMES SQ-42 ST</td>\n",
       "      <td>40.754612</td>\n",
       "      <td>-73.986768</td>\n",
       "    </tr>\n",
       "    <tr>\n",
       "      <th>326</th>\n",
       "      <td>42 ST - PORT AUTHORITY BUS TERMINAL</td>\n",
       "      <td>40.757308</td>\n",
       "      <td>-73.989735</td>\n",
       "    </tr>\n",
       "    <tr>\n",
       "      <th>360</th>\n",
       "      <td>86 STREET STATION</td>\n",
       "      <td>40.785823</td>\n",
       "      <td>-73.968828</td>\n",
       "    </tr>\n",
       "    <tr>\n",
       "      <th>361</th>\n",
       "      <td>86 STREET STATION</td>\n",
       "      <td>40.788644</td>\n",
       "      <td>-73.976218</td>\n",
       "    </tr>\n",
       "    <tr>\n",
       "      <th>385</th>\n",
       "      <td>125 ST</td>\n",
       "      <td>40.815581</td>\n",
       "      <td>-73.958372</td>\n",
       "    </tr>\n",
       "  </tbody>\n",
       "</table>\n",
       "</div>"
      ],
      "text/plain": [
       "                                    name        lat       long\n",
       "41                     86 STREET STATION  40.622687 -74.028398\n",
       "146                            FULTON ST  40.687119 -73.975375\n",
       "261         14 STREET - UNION SQ STATION  40.734673 -73.989951\n",
       "262         14 STREET - UNION SQ STATION  40.734763 -73.990670\n",
       "263         14 STREET - UNION SQ STATION  40.735872 -73.990539\n",
       "269                    23 STREET STATION  40.739864 -73.986599\n",
       "272                    23 STREET STATION  40.741303 -73.989344\n",
       "276                    23 STREET STATION  40.742954 -73.992765\n",
       "280                    23 STREET STATION  40.744081 -73.995657\n",
       "286                    23 STREET STATION  40.745906 -73.998041\n",
       "299     34 ST - HERALD SQ SUBWAY STATION  40.749645 -73.987937\n",
       "301     34 ST - HERALD SQ SUBWAY STATION  40.749789 -73.987772\n",
       "305      GRAND CENTRAL-42 STREET STATION  40.751431 -73.976041\n",
       "307      GRAND CENTRAL-42 STREET STATION  40.751807 -73.976713\n",
       "309                 34 ST - PENN STATION  40.752287 -73.993391\n",
       "311      GRAND CENTRAL-42 STREET STATION  40.752769 -73.979189\n",
       "316                       TIMES SQ-42 ST  40.754612 -73.986768\n",
       "326  42 ST - PORT AUTHORITY BUS TERMINAL  40.757308 -73.989735\n",
       "360                    86 STREET STATION  40.785823 -73.968828\n",
       "361                    86 STREET STATION  40.788644 -73.976218\n",
       "385                               125 ST  40.815581 -73.958372"
      ]
     },
     "execution_count": 23,
     "metadata": {},
     "output_type": "execute_result"
    }
   ],
   "source": [
    "# Let's check the top 10 subset lat/long\n",
    "df_subsetZip\n",
    "\n",
    "# (OUTPUT) looks like we have duplicates, \n",
    "# because some stations have slightly different lat/long values "
   ]
  },
  {
   "cell_type": "code",
   "execution_count": 24,
   "metadata": {},
   "outputs": [],
   "source": [
    "# Let's keep only one set of lat/long for each station\n",
    "df_subsetZip.drop([262, 263, 272, 276, 280, 286,\n",
    "                   301, 307, 311, 360, 361], axis=0, inplace=True)"
   ]
  },
  {
   "cell_type": "code",
   "execution_count": 25,
   "metadata": {},
   "outputs": [
    {
     "data": {
      "text/html": [
       "<div>\n",
       "<style scoped>\n",
       "    .dataframe tbody tr th:only-of-type {\n",
       "        vertical-align: middle;\n",
       "    }\n",
       "\n",
       "    .dataframe tbody tr th {\n",
       "        vertical-align: top;\n",
       "    }\n",
       "\n",
       "    .dataframe thead th {\n",
       "        text-align: right;\n",
       "    }\n",
       "</style>\n",
       "<table border=\"1\" class=\"dataframe\">\n",
       "  <thead>\n",
       "    <tr style=\"text-align: right;\">\n",
       "      <th></th>\n",
       "      <th>name</th>\n",
       "      <th>lat</th>\n",
       "      <th>long</th>\n",
       "    </tr>\n",
       "  </thead>\n",
       "  <tbody>\n",
       "    <tr>\n",
       "      <th>41</th>\n",
       "      <td>86 STREET STATION</td>\n",
       "      <td>40.622687</td>\n",
       "      <td>-74.028398</td>\n",
       "    </tr>\n",
       "    <tr>\n",
       "      <th>146</th>\n",
       "      <td>FULTON ST</td>\n",
       "      <td>40.687119</td>\n",
       "      <td>-73.975375</td>\n",
       "    </tr>\n",
       "    <tr>\n",
       "      <th>261</th>\n",
       "      <td>14 STREET - UNION SQ STATION</td>\n",
       "      <td>40.734673</td>\n",
       "      <td>-73.989951</td>\n",
       "    </tr>\n",
       "    <tr>\n",
       "      <th>269</th>\n",
       "      <td>23 STREET STATION</td>\n",
       "      <td>40.739864</td>\n",
       "      <td>-73.986599</td>\n",
       "    </tr>\n",
       "    <tr>\n",
       "      <th>299</th>\n",
       "      <td>34 ST - HERALD SQ SUBWAY STATION</td>\n",
       "      <td>40.749645</td>\n",
       "      <td>-73.987937</td>\n",
       "    </tr>\n",
       "    <tr>\n",
       "      <th>305</th>\n",
       "      <td>GRAND CENTRAL-42 STREET STATION</td>\n",
       "      <td>40.751431</td>\n",
       "      <td>-73.976041</td>\n",
       "    </tr>\n",
       "    <tr>\n",
       "      <th>309</th>\n",
       "      <td>34 ST - PENN STATION</td>\n",
       "      <td>40.752287</td>\n",
       "      <td>-73.993391</td>\n",
       "    </tr>\n",
       "    <tr>\n",
       "      <th>316</th>\n",
       "      <td>TIMES SQ-42 ST</td>\n",
       "      <td>40.754612</td>\n",
       "      <td>-73.986768</td>\n",
       "    </tr>\n",
       "    <tr>\n",
       "      <th>326</th>\n",
       "      <td>42 ST - PORT AUTHORITY BUS TERMINAL</td>\n",
       "      <td>40.757308</td>\n",
       "      <td>-73.989735</td>\n",
       "    </tr>\n",
       "    <tr>\n",
       "      <th>385</th>\n",
       "      <td>125 ST</td>\n",
       "      <td>40.815581</td>\n",
       "      <td>-73.958372</td>\n",
       "    </tr>\n",
       "  </tbody>\n",
       "</table>\n",
       "</div>"
      ],
      "text/plain": [
       "                                    name        lat       long\n",
       "41                     86 STREET STATION  40.622687 -74.028398\n",
       "146                            FULTON ST  40.687119 -73.975375\n",
       "261         14 STREET - UNION SQ STATION  40.734673 -73.989951\n",
       "269                    23 STREET STATION  40.739864 -73.986599\n",
       "299     34 ST - HERALD SQ SUBWAY STATION  40.749645 -73.987937\n",
       "305      GRAND CENTRAL-42 STREET STATION  40.751431 -73.976041\n",
       "309                 34 ST - PENN STATION  40.752287 -73.993391\n",
       "316                       TIMES SQ-42 ST  40.754612 -73.986768\n",
       "326  42 ST - PORT AUTHORITY BUS TERMINAL  40.757308 -73.989735\n",
       "385                               125 ST  40.815581 -73.958372"
      ]
     },
     "execution_count": 25,
     "metadata": {},
     "output_type": "execute_result"
    }
   ],
   "source": [
    "# Let's check again!\n",
    "df_subsetZip\n",
    "\n",
    "# (OUTPUT, below) now we have 10 unique lattitudes and longitudes"
   ]
  },
  {
   "cell_type": "code",
   "execution_count": 26,
   "metadata": {},
   "outputs": [
    {
     "data": {
      "text/plain": [
       "['86 STREET STATION',\n",
       " 'FULTON ST',\n",
       " '14 STREET - UNION SQ STATION',\n",
       " '23 STREET STATION',\n",
       " '34 ST - HERALD SQ SUBWAY STATION',\n",
       " 'GRAND CENTRAL-42 STREET STATION',\n",
       " '34 ST - PENN STATION',\n",
       " 'TIMES SQ-42 ST',\n",
       " '42 ST - PORT AUTHORITY BUS TERMINAL',\n",
       " '125 ST']"
      ]
     },
     "execution_count": 26,
     "metadata": {},
     "output_type": "execute_result"
    }
   ],
   "source": [
    "# Checking station names in our subsetZip\n",
    "df_subsetZip.name.values.tolist()"
   ]
  },
  {
   "cell_type": "code",
   "execution_count": 27,
   "metadata": {},
   "outputs": [
    {
     "data": {
      "text/html": [
       "<div>\n",
       "<style scoped>\n",
       "    .dataframe tbody tr th:only-of-type {\n",
       "        vertical-align: middle;\n",
       "    }\n",
       "\n",
       "    .dataframe tbody tr th {\n",
       "        vertical-align: top;\n",
       "    }\n",
       "\n",
       "    .dataframe thead th {\n",
       "        text-align: right;\n",
       "    }\n",
       "</style>\n",
       "<table border=\"1\" class=\"dataframe\">\n",
       "  <thead>\n",
       "    <tr style=\"text-align: right;\">\n",
       "      <th></th>\n",
       "      <th>name</th>\n",
       "      <th>lat</th>\n",
       "      <th>long</th>\n",
       "    </tr>\n",
       "  </thead>\n",
       "  <tbody>\n",
       "    <tr>\n",
       "      <th>41</th>\n",
       "      <td>86 STREET STATION</td>\n",
       "      <td>40.622687</td>\n",
       "      <td>-74.028398</td>\n",
       "    </tr>\n",
       "    <tr>\n",
       "      <th>146</th>\n",
       "      <td>FULTON ST</td>\n",
       "      <td>40.687119</td>\n",
       "      <td>-73.975375</td>\n",
       "    </tr>\n",
       "    <tr>\n",
       "      <th>261</th>\n",
       "      <td>14 STREET - UNION SQ STATION</td>\n",
       "      <td>40.734673</td>\n",
       "      <td>-73.989951</td>\n",
       "    </tr>\n",
       "    <tr>\n",
       "      <th>269</th>\n",
       "      <td>23 STREET STATION</td>\n",
       "      <td>40.739864</td>\n",
       "      <td>-73.986599</td>\n",
       "    </tr>\n",
       "    <tr>\n",
       "      <th>299</th>\n",
       "      <td>34 ST - HERALD SQ SUBWAY STATION</td>\n",
       "      <td>40.749645</td>\n",
       "      <td>-73.987937</td>\n",
       "    </tr>\n",
       "    <tr>\n",
       "      <th>305</th>\n",
       "      <td>GRAND CENTRAL-42 STREET STATION</td>\n",
       "      <td>40.751431</td>\n",
       "      <td>-73.976041</td>\n",
       "    </tr>\n",
       "    <tr>\n",
       "      <th>309</th>\n",
       "      <td>34 ST - PENN STATION</td>\n",
       "      <td>40.752287</td>\n",
       "      <td>-73.993391</td>\n",
       "    </tr>\n",
       "    <tr>\n",
       "      <th>316</th>\n",
       "      <td>TIMES SQ-42 ST</td>\n",
       "      <td>40.754612</td>\n",
       "      <td>-73.986768</td>\n",
       "    </tr>\n",
       "    <tr>\n",
       "      <th>326</th>\n",
       "      <td>42 ST - PORT AUTHORITY BUS TERMINAL</td>\n",
       "      <td>40.757308</td>\n",
       "      <td>-73.989735</td>\n",
       "    </tr>\n",
       "    <tr>\n",
       "      <th>385</th>\n",
       "      <td>125 ST</td>\n",
       "      <td>40.815581</td>\n",
       "      <td>-73.958372</td>\n",
       "    </tr>\n",
       "  </tbody>\n",
       "</table>\n",
       "</div>"
      ],
      "text/plain": [
       "                                    name        lat       long\n",
       "41                     86 STREET STATION  40.622687 -74.028398\n",
       "146                            FULTON ST  40.687119 -73.975375\n",
       "261         14 STREET - UNION SQ STATION  40.734673 -73.989951\n",
       "269                    23 STREET STATION  40.739864 -73.986599\n",
       "299     34 ST - HERALD SQ SUBWAY STATION  40.749645 -73.987937\n",
       "305      GRAND CENTRAL-42 STREET STATION  40.751431 -73.976041\n",
       "309                 34 ST - PENN STATION  40.752287 -73.993391\n",
       "316                       TIMES SQ-42 ST  40.754612 -73.986768\n",
       "326  42 ST - PORT AUTHORITY BUS TERMINAL  40.757308 -73.989735\n",
       "385                               125 ST  40.815581 -73.958372"
      ]
     },
     "execution_count": 27,
     "metadata": {},
     "output_type": "execute_result"
    }
   ],
   "source": [
    "# Let's check again\n",
    "df_subsetZip"
   ]
  },
  {
   "cell_type": "code",
   "execution_count": 28,
   "metadata": {},
   "outputs": [
    {
     "data": {
      "text/plain": [
       "\"some station names still don't match\""
      ]
     },
     "execution_count": 28,
     "metadata": {},
     "output_type": "execute_result"
    }
   ],
   "source": [
    "# Let's check if we can merge the two station names\n",
    "checkwork()"
   ]
  },
  {
   "cell_type": "code",
   "execution_count": 29,
   "metadata": {},
   "outputs": [],
   "source": [
    "# Function to clean all of the inconsistencies in station names\n",
    "def cleanstr(df_subsetZip):\n",
    "    df_subsetZip['name'] = df_subsetZip.name.str.replace('STREET', 'ST')\n",
    "    df_subsetZip['name'] = df_subsetZip.name.str.replace('STATION', '')\n",
    "    df_subsetZip.loc[df_subsetZip.name =='34 ST - HERALD SQ SUBWAY','name'] = '34 ST-HERALD SQ'\n",
    "    df_subsetZip.loc[df_subsetZip.name =='GRAND CENTRAL-42 ST','name'] = 'GRD CNTRL-42 ST'\n",
    "    df_subsetZip.loc[df_subsetZip.name =='34 ST - PENN','name']= '34 ST-PENN STA'\n",
    "    df_subsetZip.loc[df_subsetZip.name =='42 ST - PORT AUTHORITY BUS TERMINAL','name'] = '42 ST-PORT AUTH'\n",
    "\n",
    "    df_subsetZip.loc[df_subsetZip.name =='86 ST ','name'] = '86 ST'\n",
    "    df_subsetZip.loc[df_subsetZip.name =='14 ST - UNION SQ ','name'] = '14 ST - UNION SQ'\n",
    "    df_subsetZip.loc[df_subsetZip.name =='23 ST ','name'] = '23 ST'\n",
    "    df_subsetZip.loc[df_subsetZip.name =='34 ST - HERALD SQ SUBWAY ','name'] = '34 ST - HERALD SQ SUBWAY'\n",
    "    df_subsetZip.loc[df_subsetZip.name =='GRAND CENTRAL-42 ST ','name'] = 'GRAND CENTRAL-42 ST' \n",
    "    df_subsetZip.loc[df_subsetZip.name =='34 ST - PENN ','name'] = '34 ST - PENN'\n",
    "\n",
    "    df_subsetZip.loc[df_subsetZip.name =='34 ST - PENN','name'] = '34 ST-PENN STA'\n",
    "    df_subsetZip.loc[df_subsetZip.name =='GRAND CENTRAL-42 ST','name'] = 'GRD CNTRL-42 ST'\n",
    "    df_subsetZip.loc[df_subsetZip.name =='34 ST - HERALD SQ SUBWAY','name'] = '34 ST-HERALD SQ'\n",
    "    df_subsetZip.loc[df_subsetZip.name =='14 ST - UNION SQ','name'] = '14 ST-UNION SQ'\n",
    "    df_subsetZip.loc[df_subsetZip.name =='GRAND CENTRAL-42 ST','name'] = 'GRD CNTRL-42 ST'\n",
    "\n",
    "    return df_subsetZip"
   ]
  },
  {
   "cell_type": "code",
   "execution_count": 30,
   "metadata": {},
   "outputs": [
    {
     "data": {
      "text/html": [
       "<div>\n",
       "<style scoped>\n",
       "    .dataframe tbody tr th:only-of-type {\n",
       "        vertical-align: middle;\n",
       "    }\n",
       "\n",
       "    .dataframe tbody tr th {\n",
       "        vertical-align: top;\n",
       "    }\n",
       "\n",
       "    .dataframe thead th {\n",
       "        text-align: right;\n",
       "    }\n",
       "</style>\n",
       "<table border=\"1\" class=\"dataframe\">\n",
       "  <thead>\n",
       "    <tr style=\"text-align: right;\">\n",
       "      <th></th>\n",
       "      <th>name</th>\n",
       "      <th>lat</th>\n",
       "      <th>long</th>\n",
       "    </tr>\n",
       "  </thead>\n",
       "  <tbody>\n",
       "    <tr>\n",
       "      <th>41</th>\n",
       "      <td>86 ST</td>\n",
       "      <td>40.622687</td>\n",
       "      <td>-74.028398</td>\n",
       "    </tr>\n",
       "    <tr>\n",
       "      <th>146</th>\n",
       "      <td>FULTON ST</td>\n",
       "      <td>40.687119</td>\n",
       "      <td>-73.975375</td>\n",
       "    </tr>\n",
       "    <tr>\n",
       "      <th>261</th>\n",
       "      <td>14 ST-UNION SQ</td>\n",
       "      <td>40.734673</td>\n",
       "      <td>-73.989951</td>\n",
       "    </tr>\n",
       "    <tr>\n",
       "      <th>269</th>\n",
       "      <td>23 ST</td>\n",
       "      <td>40.739864</td>\n",
       "      <td>-73.986599</td>\n",
       "    </tr>\n",
       "    <tr>\n",
       "      <th>299</th>\n",
       "      <td>34 ST-HERALD SQ</td>\n",
       "      <td>40.749645</td>\n",
       "      <td>-73.987937</td>\n",
       "    </tr>\n",
       "    <tr>\n",
       "      <th>305</th>\n",
       "      <td>GRD CNTRL-42 ST</td>\n",
       "      <td>40.751431</td>\n",
       "      <td>-73.976041</td>\n",
       "    </tr>\n",
       "    <tr>\n",
       "      <th>309</th>\n",
       "      <td>34 ST-PENN STA</td>\n",
       "      <td>40.752287</td>\n",
       "      <td>-73.993391</td>\n",
       "    </tr>\n",
       "    <tr>\n",
       "      <th>316</th>\n",
       "      <td>TIMES SQ-42 ST</td>\n",
       "      <td>40.754612</td>\n",
       "      <td>-73.986768</td>\n",
       "    </tr>\n",
       "    <tr>\n",
       "      <th>326</th>\n",
       "      <td>42 ST-PORT AUTH</td>\n",
       "      <td>40.757308</td>\n",
       "      <td>-73.989735</td>\n",
       "    </tr>\n",
       "    <tr>\n",
       "      <th>385</th>\n",
       "      <td>125 ST</td>\n",
       "      <td>40.815581</td>\n",
       "      <td>-73.958372</td>\n",
       "    </tr>\n",
       "  </tbody>\n",
       "</table>\n",
       "</div>"
      ],
      "text/plain": [
       "                name        lat       long\n",
       "41             86 ST  40.622687 -74.028398\n",
       "146        FULTON ST  40.687119 -73.975375\n",
       "261   14 ST-UNION SQ  40.734673 -73.989951\n",
       "269            23 ST  40.739864 -73.986599\n",
       "299  34 ST-HERALD SQ  40.749645 -73.987937\n",
       "305  GRD CNTRL-42 ST  40.751431 -73.976041\n",
       "309   34 ST-PENN STA  40.752287 -73.993391\n",
       "316   TIMES SQ-42 ST  40.754612 -73.986768\n",
       "326  42 ST-PORT AUTH  40.757308 -73.989735\n",
       "385           125 ST  40.815581 -73.958372"
      ]
     },
     "execution_count": 30,
     "metadata": {},
     "output_type": "execute_result"
    }
   ],
   "source": [
    "# Use function to clean station names!\n",
    "cleanstr(df_subsetZip)"
   ]
  },
  {
   "cell_type": "code",
   "execution_count": 31,
   "metadata": {},
   "outputs": [
    {
     "data": {
      "text/plain": [
       "'ready to use!'"
      ]
     },
     "execution_count": 31,
     "metadata": {},
     "output_type": "execute_result"
    }
   ],
   "source": [
    "# Now, check to see if the station names match\n",
    "checkwork()"
   ]
  },
  {
   "cell_type": "markdown",
   "metadata": {},
   "source": [
    "### Write file "
   ]
  },
  {
   "cell_type": "code",
   "execution_count": 32,
   "metadata": {},
   "outputs": [],
   "source": [
    "import pickle\n",
    "\n",
    "with open('cleanDfsubsetZip.pickle', 'wb') as to_write:\n",
    "    pickle.dump(df_subsetZip, to_write)"
   ]
  },
  {
   "cell_type": "markdown",
   "metadata": {},
   "source": [
    "---"
   ]
  }
 ],
 "metadata": {
  "kernelspec": {
   "display_name": "Python 3",
   "language": "python",
   "name": "python3"
  },
  "language_info": {
   "codemirror_mode": {
    "name": "ipython",
    "version": 3
   },
   "file_extension": ".py",
   "mimetype": "text/x-python",
   "name": "python",
   "nbconvert_exporter": "python",
   "pygments_lexer": "ipython3",
   "version": "3.7.0"
  }
 },
 "nbformat": 4,
 "nbformat_minor": 2
}
