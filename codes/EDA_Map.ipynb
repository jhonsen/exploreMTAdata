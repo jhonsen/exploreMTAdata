{
 "cells": [
  {
   "cell_type": "markdown",
   "metadata": {},
   "source": [
    "# MTA Turnstile Data Analysis\n"
   ]
  },
  {
   "cell_type": "markdown",
   "metadata": {},
   "source": [
    "This notebook provides interactive maps of all subway stations and the top 10 busiest stations"
   ]
  },
  {
   "cell_type": "markdown",
   "metadata": {},
   "source": [
    "---"
   ]
  },
  {
   "cell_type": "markdown",
   "metadata": {},
   "source": [
    "**Note:** Initialization for online plotting instruction, [here](https://plot.ly/python/getting-started/#initialization-for-online-plotting)"
   ]
  },
  {
   "cell_type": "markdown",
   "metadata": {},
   "source": [
    "### Importing libraries"
   ]
  },
  {
   "cell_type": "code",
   "execution_count": 11,
   "metadata": {},
   "outputs": [],
   "source": [
    "import pandas as pd\n",
    "import warnings \n",
    "warnings.filterwarnings('ignore')\n",
    "\n",
    "import pickle\n",
    "\n",
    "import plotly.plotly as py\n",
    "import plotly \n",
    "import plotly.graph_objs as go"
   ]
  },
  {
   "cell_type": "code",
   "execution_count": 2,
   "metadata": {},
   "outputs": [
    {
     "data": {
      "text/html": [
       "<div>\n",
       "<style scoped>\n",
       "    .dataframe tbody tr th:only-of-type {\n",
       "        vertical-align: middle;\n",
       "    }\n",
       "\n",
       "    .dataframe tbody tr th {\n",
       "        vertical-align: top;\n",
       "    }\n",
       "\n",
       "    .dataframe thead th {\n",
       "        text-align: right;\n",
       "    }\n",
       "</style>\n",
       "<table border=\"1\" class=\"dataframe\">\n",
       "  <thead>\n",
       "    <tr style=\"text-align: right;\">\n",
       "      <th></th>\n",
       "      <th>Unnamed: 0</th>\n",
       "      <th>index</th>\n",
       "      <th>name</th>\n",
       "      <th>zipcode</th>\n",
       "      <th>lat</th>\n",
       "      <th>long</th>\n",
       "      <th>Geography</th>\n",
       "      <th>Median income (dollars); Estimate; Households</th>\n",
       "    </tr>\n",
       "  </thead>\n",
       "  <tbody>\n",
       "    <tr>\n",
       "      <th>0</th>\n",
       "      <td>215</td>\n",
       "      <td>408</td>\n",
       "      <td>WORLD TRADE CENTER</td>\n",
       "      <td>10007</td>\n",
       "      <td>40.712564</td>\n",
       "      <td>-74.009745</td>\n",
       "      <td>ZCTA5 10007</td>\n",
       "      <td>242644.0</td>\n",
       "    </tr>\n",
       "    <tr>\n",
       "      <th>1</th>\n",
       "      <td>217</td>\n",
       "      <td>147</td>\n",
       "      <td>METROPOLITAN AV STATION</td>\n",
       "      <td>11211</td>\n",
       "      <td>40.712774</td>\n",
       "      <td>-73.951424</td>\n",
       "      <td>ZCTA5 10007</td>\n",
       "      <td>242644.0</td>\n",
       "    </tr>\n",
       "    <tr>\n",
       "      <th>2</th>\n",
       "      <td>225</td>\n",
       "      <td>360</td>\n",
       "      <td>CHAMBERS STREET STATION</td>\n",
       "      <td>10007</td>\n",
       "      <td>40.714111</td>\n",
       "      <td>-74.008585</td>\n",
       "      <td>ZCTA5 10007</td>\n",
       "      <td>242644.0</td>\n",
       "    </tr>\n",
       "    <tr>\n",
       "      <th>3</th>\n",
       "      <td>224</td>\n",
       "      <td>71</td>\n",
       "      <td>METROPOLITAN AV STATION</td>\n",
       "      <td>11211</td>\n",
       "      <td>40.714072</td>\n",
       "      <td>-73.950248</td>\n",
       "      <td>ZCTA5 10007</td>\n",
       "      <td>242644.0</td>\n",
       "    </tr>\n",
       "    <tr>\n",
       "      <th>4</th>\n",
       "      <td>223</td>\n",
       "      <td>63</td>\n",
       "      <td>UNION TURNPIKE - KEW GARDENS STATION</td>\n",
       "      <td>11415</td>\n",
       "      <td>40.714035</td>\n",
       "      <td>-73.830370</td>\n",
       "      <td>ZCTA5 10007</td>\n",
       "      <td>242644.0</td>\n",
       "    </tr>\n",
       "  </tbody>\n",
       "</table>\n",
       "</div>"
      ],
      "text/plain": [
       "   Unnamed: 0  index                                  name zipcode        lat  \\\n",
       "0         215    408                    WORLD TRADE CENTER   10007  40.712564   \n",
       "1         217    147               METROPOLITAN AV STATION   11211  40.712774   \n",
       "2         225    360               CHAMBERS STREET STATION   10007  40.714111   \n",
       "3         224     71               METROPOLITAN AV STATION   11211  40.714072   \n",
       "4         223     63  UNION TURNPIKE - KEW GARDENS STATION   11415  40.714035   \n",
       "\n",
       "        long    Geography  Median income (dollars); Estimate; Households  \n",
       "0 -74.009745  ZCTA5 10007                                       242644.0  \n",
       "1 -73.951424  ZCTA5 10007                                       242644.0  \n",
       "2 -74.008585  ZCTA5 10007                                       242644.0  \n",
       "3 -73.950248  ZCTA5 10007                                       242644.0  \n",
       "4 -73.830370  ZCTA5 10007                                       242644.0  "
      ]
     },
     "execution_count": 2,
     "metadata": {},
     "output_type": "execute_result"
    }
   ],
   "source": [
    "df = pd.read_csv('../data/top_stations.csv')\n",
    "df.head()"
   ]
  },
  {
   "cell_type": "code",
   "execution_count": 63,
   "metadata": {},
   "outputs": [
    {
     "data": {
      "text/plain": [
       "Index(['Unnamed: 0', 'index', 'name', 'zipcode', 'lat', 'long', 'Geography',\n",
       "       'Median income (dollars); Estimate; Households'],\n",
       "      dtype='object')"
      ]
     },
     "execution_count": 63,
     "metadata": {},
     "output_type": "execute_result"
    }
   ],
   "source": [
    "df.columns"
   ]
  },
  {
   "cell_type": "markdown",
   "metadata": {},
   "source": [
    "### Quick Data Cleaning"
   ]
  },
  {
   "cell_type": "code",
   "execution_count": 3,
   "metadata": {},
   "outputs": [],
   "source": [
    "df = df.rename(columns={'Median income (dollars); Estimate; Households':'medianIncome', \n",
    "                       'name':'Station'})"
   ]
  },
  {
   "cell_type": "code",
   "execution_count": 4,
   "metadata": {},
   "outputs": [],
   "source": [
    "# Creating lists of arguments for plotting map (below) \n",
    "list_lat = df.lat.tolist()\n",
    "list_long = df.long.tolist()\n",
    "list_StnName = df.Station.tolist()"
   ]
  },
  {
   "cell_type": "markdown",
   "metadata": {},
   "source": [
    "### Plotting all subway locations in NYC"
   ]
  },
  {
   "cell_type": "code",
   "execution_count": 7,
   "metadata": {},
   "outputs": [
    {
     "data": {
      "text/html": [
       "<iframe id=\"igraph\" scrolling=\"no\" style=\"border:none;\" seamless=\"seamless\" src=\"https://plot.ly/~jhonsky/16.embed\" height=\"525px\" width=\"100%\"></iframe>"
      ],
      "text/plain": [
       "<plotly.tools.PlotlyDisplay object>"
      ]
     },
     "execution_count": 7,
     "metadata": {},
     "output_type": "execute_result"
    }
   ],
   "source": [
    "# Setup for plotly api\n",
    "# Fill in with personal username, api_key, and token\n",
    "plotly.tools.set_credentials_file(username='YOUR USER NAME', api_key='YOUR API KEY')\n",
    "mapbox_access_token = 'YOUR TOKEN'\n",
    "\n",
    "# Creating interactive map\n",
    "data = [\n",
    "    go.Scattermapbox(\n",
    "        lat=list_lat,\n",
    "        lon=list_long,\n",
    "        mode='markers',\n",
    "        marker=dict(\n",
    "            size=7,\n",
    "            color='rgb(242, 0, 0)',\n",
    "            opacity=0.5\n",
    "        ),\n",
    "        text=list_StnName,\n",
    "    )\n",
    "]\n",
    "\n",
    "layout = go.Layout(\n",
    "    autosize=True,\n",
    "    hovermode='closest',\n",
    "    mapbox=dict(\n",
    "        accesstoken=mapbox_access_token,\n",
    "        bearing=0,\n",
    "        center=dict(\n",
    "            lat=df.lat.mean(),\n",
    "            lon=df.long.mean()\n",
    "        ),\n",
    "        pitch=0,\n",
    "        zoom=6\n",
    "    ),\n",
    ")\n",
    "\n",
    "fig = dict(data=data, layout=layout)\n",
    "\n",
    "py.iplot(fig, filename='New York Mapbox')"
   ]
  },
  {
   "cell_type": "markdown",
   "metadata": {},
   "source": [
    "### Load pickle object containing 'clean' dataframe from the result of **EDA_MTA.ipynb**"
   ]
  },
  {
   "cell_type": "code",
   "execution_count": 12,
   "metadata": {},
   "outputs": [],
   "source": [
    "# Importing 'clean' dataframe from EDA_MTA.ipynb\n",
    "with open('cleanDf.pickle', 'rb') as readfile:\n",
    "    dfnew = pickle.load(readfile)"
   ]
  },
  {
   "cell_type": "code",
   "execution_count": 9,
   "metadata": {},
   "outputs": [],
   "source": [
    "# Creating a subset df containing only top10 stations\n",
    "dfStation= dfnew.groupby('Station')[['traffic']].sum().sort_values(by = 'traffic', ascending=False)\n",
    "list_top10 = dfStation.index[:10].tolist()\n",
    "df_top10 = dfnew[dfnew.Station.isin(list_top10)]"
   ]
  },
  {
   "cell_type": "code",
   "execution_count": 13,
   "metadata": {},
   "outputs": [],
   "source": [
    "# Importing another dataframe containing geocodes\n",
    "with open('cleanDfsubsetZip.pickle', 'rb') as readfile:\n",
    "    dfgeo = pickle.load(readfile)"
   ]
  },
  {
   "cell_type": "code",
   "execution_count": 16,
   "metadata": {},
   "outputs": [
    {
     "data": {
      "text/html": [
       "<div>\n",
       "<style scoped>\n",
       "    .dataframe tbody tr th:only-of-type {\n",
       "        vertical-align: middle;\n",
       "    }\n",
       "\n",
       "    .dataframe tbody tr th {\n",
       "        vertical-align: top;\n",
       "    }\n",
       "\n",
       "    .dataframe thead th {\n",
       "        text-align: right;\n",
       "    }\n",
       "</style>\n",
       "<table border=\"1\" class=\"dataframe\">\n",
       "  <thead>\n",
       "    <tr style=\"text-align: right;\">\n",
       "      <th></th>\n",
       "      <th>name</th>\n",
       "      <th>lat</th>\n",
       "      <th>long</th>\n",
       "    </tr>\n",
       "  </thead>\n",
       "  <tbody>\n",
       "    <tr>\n",
       "      <th>41</th>\n",
       "      <td>86 ST</td>\n",
       "      <td>40.622687</td>\n",
       "      <td>-74.028398</td>\n",
       "    </tr>\n",
       "    <tr>\n",
       "      <th>146</th>\n",
       "      <td>FULTON ST</td>\n",
       "      <td>40.687119</td>\n",
       "      <td>-73.975375</td>\n",
       "    </tr>\n",
       "    <tr>\n",
       "      <th>261</th>\n",
       "      <td>14 ST-UNION SQ</td>\n",
       "      <td>40.734673</td>\n",
       "      <td>-73.989951</td>\n",
       "    </tr>\n",
       "    <tr>\n",
       "      <th>269</th>\n",
       "      <td>23 ST</td>\n",
       "      <td>40.739864</td>\n",
       "      <td>-73.986599</td>\n",
       "    </tr>\n",
       "    <tr>\n",
       "      <th>299</th>\n",
       "      <td>34 ST-HERALD SQ</td>\n",
       "      <td>40.749645</td>\n",
       "      <td>-73.987937</td>\n",
       "    </tr>\n",
       "    <tr>\n",
       "      <th>305</th>\n",
       "      <td>GRD CNTRL-42 ST</td>\n",
       "      <td>40.751431</td>\n",
       "      <td>-73.976041</td>\n",
       "    </tr>\n",
       "    <tr>\n",
       "      <th>309</th>\n",
       "      <td>34 ST-PENN STA</td>\n",
       "      <td>40.752287</td>\n",
       "      <td>-73.993391</td>\n",
       "    </tr>\n",
       "    <tr>\n",
       "      <th>316</th>\n",
       "      <td>TIMES SQ-42 ST</td>\n",
       "      <td>40.754612</td>\n",
       "      <td>-73.986768</td>\n",
       "    </tr>\n",
       "    <tr>\n",
       "      <th>326</th>\n",
       "      <td>42 ST-PORT AUTH</td>\n",
       "      <td>40.757308</td>\n",
       "      <td>-73.989735</td>\n",
       "    </tr>\n",
       "    <tr>\n",
       "      <th>385</th>\n",
       "      <td>125 ST</td>\n",
       "      <td>40.815581</td>\n",
       "      <td>-73.958372</td>\n",
       "    </tr>\n",
       "  </tbody>\n",
       "</table>\n",
       "</div>"
      ],
      "text/plain": [
       "                name        lat       long\n",
       "41             86 ST  40.622687 -74.028398\n",
       "146        FULTON ST  40.687119 -73.975375\n",
       "261   14 ST-UNION SQ  40.734673 -73.989951\n",
       "269            23 ST  40.739864 -73.986599\n",
       "299  34 ST-HERALD SQ  40.749645 -73.987937\n",
       "305  GRD CNTRL-42 ST  40.751431 -73.976041\n",
       "309   34 ST-PENN STA  40.752287 -73.993391\n",
       "316   TIMES SQ-42 ST  40.754612 -73.986768\n",
       "326  42 ST-PORT AUTH  40.757308 -73.989735\n",
       "385           125 ST  40.815581 -73.958372"
      ]
     },
     "execution_count": 16,
     "metadata": {},
     "output_type": "execute_result"
    }
   ],
   "source": [
    "# Creating a subset of top10\n",
    "dfgeo = dfgeo.loc[dfgeo.name.isin(list_top10),:]\n",
    "dfgeo"
   ]
  },
  {
   "cell_type": "markdown",
   "metadata": {},
   "source": [
    "### Plotting top 10 subway locations in NYC"
   ]
  },
  {
   "cell_type": "code",
   "execution_count": 18,
   "metadata": {},
   "outputs": [
    {
     "data": {
      "text/html": [
       "<iframe id=\"igraph\" scrolling=\"no\" style=\"border:none;\" seamless=\"seamless\" src=\"https://plot.ly/~jhonsky/16.embed\" height=\"525px\" width=\"100%\"></iframe>"
      ],
      "text/plain": [
       "<plotly.tools.PlotlyDisplay object>"
      ]
     },
     "execution_count": 18,
     "metadata": {},
     "output_type": "execute_result"
    }
   ],
   "source": [
    "# Setup for plotly api\n",
    "# Fill in with personal username, api_key, and token\n",
    "plotly.tools.set_credentials_file(username='YOUR USERNAME', api_key='YOUR API')\n",
    "mapbox_access_token = 'YOUR TOKEN'\n",
    "\n",
    "\n",
    "# Creating interactive map\n",
    "data = [\n",
    "    go.Scattermapbox(\n",
    "        lat=dfgeo.lat,\n",
    "        lon=dfgeo.long,\n",
    "        mode='markers',\n",
    "        marker=dict(\n",
    "            size=7,\n",
    "            color='rgb(242, 0, 0)',\n",
    "            opacity=0.5\n",
    "        ),\n",
    "        text=dfgeo.name,\n",
    "    )\n",
    "]\n",
    "\n",
    "layout = go.Layout(\n",
    "    autosize=True,\n",
    "    hovermode='closest',\n",
    "    mapbox=dict(\n",
    "        accesstoken=mapbox_access_token,\n",
    "        bearing=0,\n",
    "        center=dict(\n",
    "            lat=dfgeo.lat.mean(),\n",
    "            lon=dfgeo.long.mean()\n",
    "        ),\n",
    "        pitch=0,\n",
    "        zoom=6\n",
    "    ),\n",
    ")\n",
    "\n",
    "fig = dict(data=data, layout=layout)\n",
    "\n",
    "py.iplot(fig, filename='New York Mapbox')\n",
    "\n"
   ]
  },
  {
   "cell_type": "markdown",
   "metadata": {},
   "source": [
    "___"
   ]
  }
 ],
 "metadata": {
  "kernelspec": {
   "display_name": "Python 3",
   "language": "python",
   "name": "python3"
  },
  "language_info": {
   "codemirror_mode": {
    "name": "ipython",
    "version": 3
   },
   "file_extension": ".py",
   "mimetype": "text/x-python",
   "name": "python",
   "nbconvert_exporter": "python",
   "pygments_lexer": "ipython3",
   "version": "3.7.0"
  }
 },
 "nbformat": 4,
 "nbformat_minor": 2
}
